{
 "cells": [
  {
   "cell_type": "markdown",
   "metadata": {},
   "source": [
    "\n",
    "# Lab 1: Debugging\n",
    "### EE16B: Designing Information Devices and Systems II, Fall 2019\n",
    "\n",
    "-----"
   ]
  },
  {
   "cell_type": "markdown",
   "metadata": {},
   "source": [
    "**Name 1**: \n",
    "\n",
    "**Login**: ee16b-\n",
    "\n",
    "\n",
    "**Name 2**:\n",
    "\n",
    "**Login**: ee16b-"
   ]
  },
  {
   "cell_type": "markdown",
   "metadata": {},
   "source": [
    "<a id='part0'></a>\n",
    "## <span style=\"color:#075a04\">NOTE: All questions in green are required for checkoff! </span>\n",
    "\n"
   ]
  },
  {
   "cell_type": "markdown",
   "metadata": {},
   "source": [
    "<a id='part0'></a>\n",
    "# <span style=\"color:navy\">Part 0: Introduction </span>\n",
    "-----"
   ]
  },
  {
   "cell_type": "markdown",
   "metadata": {},
   "source": [
    "## Materials:\n",
    "- Lab notes\n",
    "- Debugging guide\n",
    "- Headphones\n",
    "\n",
    "\n",
    "## Tasks:\n",
    "\n",
    "### 1. The art of debugging\n",
    "- Read over the debugging guide and watch the linked videos. They will introduce you to the tools of the lab which will help you build and debug the circuits in EE16B.\n",
    "\n",
    "### 2. Review\n",
    "- Review the lab notes. Every lab will come with notes that provide a technical review of the concepts covered in lab as well as theoretical connections. **You should read the notes before lab.** The notes serve as review and may help you as a reference during lab section.\n",
    "\n",
    "\n",
    "### 3. Equipment\n",
    "- Obtain 1x part kit containing breadboard, LEDs, op-amps, and other components you will use in lab.\n",
    "- Obtain 1x MSP430 which you will use to interface between your circuits and the computer."
   ]
  },
  {
   "cell_type": "markdown",
   "metadata": {},
   "source": [
    "<a id='part1'></a>\n",
    "# <span style=\"color:navy\">Part 1: Your first circuit </span>\n",
    "-----"
   ]
  },
  {
   "cell_type": "markdown",
   "metadata": {
    "collapsed": true
   },
   "source": [
    "## Materials:\n",
    "- Breadboard\n",
    "- Wires\n",
    "- Op amp\n",
    "- 2x oscilloscope probe\n",
    "- Function generator probe\n",
    "- Voltage generator leads\n",
    "- 1 k$\\Omega$ resistor\n",
    "- 100 k$\\Omega$ resistor\n",
    "\n",
    "\n",
    "## Tasks: \n",
    "\n",
    "### 1. Build the circuit below.\n",
    "<center>\n",
    "<img width='500px'\n",
    "src=\"images/circuit_build.png\">\n",
    "</center>\n",
    "\n",
    "**NOTE:** The op-amps in your circuit kit are the 8-legged black components with a half-circle on one side. The pins (legs) correspond to the following nodes:\n",
    "<center>\n",
    "<img width='500px'\n",
    "src=\"images/op_amp_pinout.png\">\n",
    "</center>\n",
    "\n",
    "### 2. Test your amplifier.\n",
    "- Generate a sinusoidal signal:\n",
    "  - 1 kHz\n",
    "  - 100 mVpp \n",
    "      - mVpp means millivolts peak-to-peak. Peak-to-peak means the difference between the maimum and the minimum of the sine wave (twice the amplitude).\n",
    "  - 0 mV offset\n",
    "  - *Remember to set the function generator's output load to \"High Z\"*. You can do this by pressing (1) under Channel Setup, and then selecting \"Output Load\".\n",
    "\n",
    "- Use the oscilloscope to probe $V_{in}$ and $V_{out}$ simultaneously. **DO NOT insert the oscilloscope probe directly into the breadboard** - make sure you use the hook attachment connected to a wire, and probe with the wire.\n",
    "\n",
    "- **Sanity Check Question:** <span style=\"color:#ba190f\">**What should VDD and VSS be?**</span> Hint: what is the range of the input sinusoidal signal? What is our gain? What will the range of the output signal be?\n",
    "\n",
    "### 3. KEEP this circuit on your breadboard!\n",
    "- Show the circuit and oscilloscope board output during checkoff."
   ]
  },
  {
   "cell_type": "markdown",
   "metadata": {},
   "source": [
    "<a id='part2'></a>\n",
    "## <span>Questions:</span>\n",
    "\n",
    "#### <span style=\"color:#075a04\">Ex. Are you a human of action or thought?</span>  \n",
    "Answer: both."
   ]
  },
  {
   "cell_type": "markdown",
   "metadata": {},
   "source": [
    "#### <span style=\"color:#075a04\"> 1. What is the circuit?  What does it do to the input signal?"
   ]
  },
  {
   "cell_type": "markdown",
   "metadata": {},
   "source": [
    "Answer: An inverting op-amp. It negates the signal."
   ]
  },
  {
   "cell_type": "markdown",
   "metadata": {},
   "source": [
    "#### <span style=\"color:#075a04\"> 2. What is the gain of the circuit?"
   ]
  },
  {
   "cell_type": "markdown",
   "metadata": {},
   "source": [
    "Answer: 100"
   ]
  },
  {
   "cell_type": "markdown",
   "metadata": {},
   "source": [
    "#### <span style=\"color:#075a04\"> 3. How can you change the gain?\n"
   ]
  },
  {
   "cell_type": "markdown",
   "metadata": {},
   "source": [
    "Answer: Change the *ratio* of the resistors."
   ]
  },
  {
   "cell_type": "markdown",
   "metadata": {},
   "source": [
    "#### <span style=\"color:#075a04\"> 4. What happens when you:\n",
    "\n",
    "#### <span style=\"color:#075a04\"> a) Flip the polarity (i.e. switch the inputs to the INVERTING/NONINVERTING terminals of the op amp)? In other words, what happens if you switch the \"+\" and \"-\" inputs on the op-amp (flip the op-amp in the diagram upside down)?"
   ]
  },
  {
   "cell_type": "markdown",
   "metadata": {},
   "source": [
    "Answer: The op-amp is in positive feedback. It will rail (it will \"latch\" to either +5 or -5V. https://www.allaboutcircuits.com/textbook/semiconductors/chpt-8/positive-feedback/)."
   ]
  },
  {
   "cell_type": "markdown",
   "metadata": {},
   "source": [
    "#### <span style=\"color:#075a04\"> b) Short \"+\" and \"-\" input terminals on the op-amp?"
   ]
  },
  {
   "cell_type": "markdown",
   "metadata": {},
   "source": [
    "Answer: Because there is no voltage difference between V+ and V-, the output is 0V."
   ]
  },
  {
   "cell_type": "markdown",
   "metadata": {},
   "source": [
    "#### <span style=\"color:#075a04\"> c) Increase the amplitude of your sinusoidal input to 200 mV peak-to-peak? Hint: what is the maximum amplitude the circuit can output?"
   ]
  },
  {
   "cell_type": "markdown",
   "metadata": {},
   "source": [
    "Answer: It will clip at +/- 5 V"
   ]
  },
  {
   "cell_type": "markdown",
   "metadata": {},
   "source": [
    "#### <span style=\"color:#075a04\"> d) What happens if the Op Amp VSS = -1 V?"
   ]
  },
  {
   "cell_type": "markdown",
   "metadata": {},
   "source": [
    "Answer: It will clip at -1 V"
   ]
  },
  {
   "cell_type": "markdown",
   "metadata": {},
   "source": [
    "#### <span style=\"color:#075a04\"> e) Keeping $\\frac{R_f}{R_{in}}$ constant, do the resistors' values affect circuit output / performance (ex: $\\frac{100k \\Omega}{10k\\Omega}$ equivalent to $\\frac{100\\Omega}{10\\Omega}$)? Is it better to use large or small resistor values, and why?"
   ]
  },
  {
   "cell_type": "markdown",
   "metadata": {},
   "source": [
    "Answer: *Nothing will happen in theory,* **but it's better to use large resistors in practice**. $ V = IR $, so decreasing resistance will increase current when voltage stays constant. High current can cause components such as op-amps to burn. The reasoning is that $P = IV = I^2 R$. This means that there will be more power dissipated as heat which can melt wires and cause things to burn.\n",
    "\n",
    "**Expect most students to get this question wrong.** That is OK. Use it as a teaching moment to ensure that they will choose large resistor values unless explicitely told otherwise for the rest of the semester. The design behind this question is that students are more likely to remember their mistakes/what they got wrong as opposed to the questions they got right."
   ]
  },
  {
   "cell_type": "markdown",
   "metadata": {},
   "source": [
    "<a id='part4'></a>\n",
    "# <span style=\"color:#ba190f\">CHECKOFF </span> \n",
    "-----\n",
    "    \n",
    "\n",
    "\n",
    "### For Checkoff:\n",
    "\n",
    "- First take the checkoff quiz: http://tinyurl.com/debugLabQuiz\n",
    "- Show your GSI both the input and output signals on your oscilloscope at the same time.\n",
    "- Show your GSI your completed quiz.\n",
    "- Order a free sample of op-amps from TI.\n",
    "- Show your GSI your order confirmation for your TI op-amps.\n",
    "- Be prepared to answer some questions.\n",
    "\n",
    "**After checkoff, please:**\n",
    "- Turn off all lab equipment\n",
    "- Clean up your station!!\n",
    "- Leave the station as you found it!\n",
    "\n",
    "### Save this notebook somewhere you can access it! \n",
    "\n",
    "We recommend making a shared google drive with your lab partner, since github can be annoying with jupyter notebooks. You will **NOT** need this circuit for next week's lab, but it's good to start saving your jupyter notebooks now so that you will always have access to your lab work.\n",
    "\n",
    "Occasionally, the lab computers fail and lose the notebook data. Backups are always a good idea."
   ]
  },
  {
   "cell_type": "code",
   "execution_count": null,
   "metadata": {
    "collapsed": true
   },
   "outputs": [],
   "source": []
  }
 ],
 "metadata": {
  "anaconda-cloud": {},
  "kernelspec": {
   "display_name": "Python 3",
   "language": "python",
   "name": "python3"
  },
  "language_info": {
   "codemirror_mode": {
    "name": "ipython",
    "version": 3
   },
   "file_extension": ".py",
   "mimetype": "text/x-python",
   "name": "python",
   "nbconvert_exporter": "python",
   "pygments_lexer": "ipython3",
   "version": "3.6.1"
  }
 },
 "nbformat": 4,
 "nbformat_minor": 2
}

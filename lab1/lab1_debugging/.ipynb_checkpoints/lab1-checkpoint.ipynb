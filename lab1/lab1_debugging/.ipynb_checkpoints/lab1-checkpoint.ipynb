{
 "cells": [
  {
   "cell_type": "markdown",
   "metadata": {},
   "source": [
    "\n",
    "# Lab 1: Op-Amp Basics\n",
    "### EE16B: Designing Information Devices and Systems II, Summer 2020\n",
    "\n",
    "\n",
    "Updated by Rafael Calleja (2020)\n",
    "\n",
    "rafael.calleja@berkeley.edu\n",
    "\n",
    "-----"
   ]
  },
  {
   "cell_type": "markdown",
   "metadata": {},
   "source": [
    "* [Part 0: Introduction](#part0)\n",
    "* [Part 1: Our Power Supplies](#part1)\n",
    "* [Part 2: Inky, Pinky, ____, and Clyde](#part2)"
   ]
  },
  {
   "cell_type": "markdown",
   "metadata": {},
   "source": [
    "<a id='part0'></a>\n",
    "## <span style=\"color:#075a04\">NOTE: All questions in green are required for checkoff! </span>\n",
    "\n"
   ]
  },
  {
   "cell_type": "markdown",
   "metadata": {},
   "source": [
    "<a id='part0'></a>\n",
    "# <span style=\"color:navy\">Part 0: Introduction </span>\n",
    "-----"
   ]
  },
  {
   "cell_type": "markdown",
   "metadata": {},
   "source": [
    "## Materials\n",
    "- Lab notes\n",
    "- Debugging guide\n",
    "- Headphones\n",
    "\n",
    "## Tasks\n",
    "\n",
    "### 0. Read Parts 0 and 1 of the [lab note](https://drive.google.com/file/d/1dRD6Qg4eMoz3yr5E_V4ZeU5ndKg55hv8/view?usp=sharing).\n",
    "\n",
    "Every lab will come with notes that provide a technical review of the concepts covered in lab as well as theoretical connections. **You should read the notes before lab.** The notes serve as review and may help you as a reference during lab section.\n",
    "\n",
    "\n",
    "### 1. Equipment\n",
    "- Make sure you have received the EE16B lab kit! If not, let you TA know and fill out the form on Piazza (@32). "
   ]
  },
  {
   "cell_type": "markdown",
   "metadata": {},
   "source": [
    "<a id='part1'></a>\n",
    "# <span style=\"color:navy\">Part 1: Our Power Supplies </span>\n",
    "\n",
    "-----"
   ]
  },
  {
   "cell_type": "markdown",
   "metadata": {},
   "source": [
    "## Materials:\n",
    "- 9V wall adapter + cables\n",
    "- 1x LM317KCT (9V-to-3.3V) voltage regulator\n",
    "- 1x LM340T5 (9V-to-5V) voltage regulator\n",
    "- 2x 1 k$\\Omega$ Resistor\n",
    "- 1x 1.5 k$\\Omega$ Resistor\n",
    "- 1x 2 k$\\Omega$ Resistor\n",
    "- 2x 100 nF Capacitor\n",
    "- 1x 10 uF capacitors\n",
    "- Digital Multimeter (DMM)\n",
    "\n",
    "\n",
    "## Tasks: \n",
    "\n",
    "### 1.1 Plan your breadboard layout\n",
    "\n",
    "Once you've built the following circuits, your breadboard should look something like this:\n",
    "\n",
    "<center>\n",
    "    <img width=\"500px\" src=\"images/breadboard_layout.png\">\n",
    "</center>\n",
    "\n",
    "- As a helpful tip throughout your labs: **KEEP YOUR CIRCUIT NEAT!** This means you should be reasonably minimizing the space that wires and other electrical components take up on your breadboard!\n",
    "\n",
    "### 1.2 Build the voltage regulator circuits\n",
    "\n",
    "**<span style=\"color:#ba190f\"> The pinout for each regulator is on page 2 of the lab note.</span>**\n",
    "\n",
    "1. **Build the following circuit with the LM317KCT regulator. <span style=\"color:#ba190f\"> Before wiring your 9V wall adapter to the voltage regulator, please make sure to check that the circuit is correct with the lab staff! </span>** \n",
    "    \n",
    "    <img width=\"500px\" src=\"images/LM317KCT_circuit_diagram.png\">\n",
    "\n",
    "2. **Build the following circuit with the LM340T5 regulator. <span style=\"color:#ba190f\"> Before wiring your 9V wall adapter to the voltage regulator, please make sure to check that the circuit is correct with the lab staff! </span>**\n",
    "\n",
    "    <img width=\"500px\" src=\"images/LM340T5_circuit_diagram.png\">\n",
    "    \n",
    "3. **Add a decoupling capacitor (10 uF, code 106) between your 3.3 V rail and ground.** We are going to be working with some small signals, so we want to minimize any possible sources of noise, and the power rails can be a large source of noise. Decoupling capacitors will reduce fluctuations on your rails (which can occur for example when the voltage source must supply a large amount of current across wires which actually have non-zero resistance and inductance) .  (https://en.wikipedia.org/wiki/Decoupling_capacitor) You should use them in every circuit you build <i>in the future for the rest of your life</i>.\n",
    "\n",
    "4. **<span style=\"color:#ba190f\">Use your digital multimeter to verify that $V_{\\text{out}}$ is ~3.45V and ~5V for the LM317KCT and LM340T5 respectively.</span>** "
   ]
  },
  {
   "cell_type": "markdown",
   "metadata": {},
   "source": [
    "<a id='part2'></a>\n",
    "# <span style=\"color:navy\">Part 2: Inky, Pinky, ___________, and Clyde </span>\n",
    "-----"
   ]
  },
  {
   "cell_type": "markdown",
   "metadata": {
    "collapsed": true
   },
   "source": [
    "## Materials\n",
    "- Breadboard\n",
    "- Wires\n",
    "- Op amp\n",
    "- M-to-F jumper wires\n",
    "- 2x LEDs\n",
    "- 2x 10 $\\Omega$ resistor\n",
    "- 2x 1 k$\\Omega$ resistor\n",
    "- 2x 20 k$\\Omega$ resistor\n",
    "\n",
    "\n",
    "## Tasks\n",
    "\n",
    "### 2.1 Interacting with your Launchpad\n",
    "\n",
    "\n",
    "<center>\n",
    "<img width='400px'\n",
    "src=\"images/MSP430F5529.jpg\">\n",
    "</center>\n",
    "\n",
    "Throughout the lab curriculum, we will be relying on our MSP430 Launchpad to generate waveforms and display voltages as a function of time among other interesting and necessary functions in a lab. To load the programs that perform these functions and to get a sense of the code we writing to accomplish them, please install [TI's Energia IDE](https://energia.nu/download/). There are many helpful example programs in `Open > Examples` that will show you some of the basics of coding in C/C++ inside the Energia IDE.\n",
    "\n",
    "In general, to upload a program to your Launchpad, you will follow these steps:\n",
    "\n",
    "- Open the .ino file in Energia you wish to upload to your Launchpad.\n",
    "- Fill in any `#TODO` sections we may have left in the code for you to complete.\n",
    "- Click the Verify (Checkmark) button to make sure the program compiles correctly.\n",
    "- Fix any bugs that may have arisen.\n",
    "- Click the Upload (Right-Arrow) button to upload the program to your Launchpad\n",
    "\n",
    "### 2.2 Build the circuit below\n",
    "<center>\n",
    "<img width='500px'\n",
    "src=\"images/blink_inverting_circuit_diagram_1.png\">\n",
    "\n",
    "</center>\n",
    "\n",
    "### 2.3 Test your amplifier\n",
    "\n",
    "- Load in `simple_square_wave.ino` to your MSP430 Launchpad. This program will generate a square wave with the following properties:\n",
    "    - 1 Hz frequency\n",
    "    - 50% duty cycle\n",
    "    - 3.3Vpp\n",
    "        - Vpp means volts peak-to-peak. Peak-to-peak means the difference between the maimum and the minimum of the sine wave (twice the amplitude).\n",
    "    - 1.65V offset\n",
    "\n",
    "- Connect pin P3.2 on your launchpad to the corresponding node in the circuit.\n",
    "- Connect $V_{\\text{ref}}$ to the 3.3V pin on your launchpad.\n",
    "\n",
    "- **Sanity Check Question:** <span style=\"color:#ba190f\">**What should VDD and VSS be?**</span> Hint: what is the range of the input square wave signal? What is our gain? What will the range of the output signal be? \n",
    "\n",
    "- Connect the correct DC voltages to $V_{\\text{dd}}$ and $V_{\\text{ss}}$.\n",
    "\n"
   ]
  },
  {
   "cell_type": "markdown",
   "metadata": {},
   "source": [
    "## <span>Questions</span>\n",
    "\n",
    "#### <span style=\"color:#075a04\">Ex. Are you a human of action or thought?</span>  \n",
    "Answer: both."
   ]
  },
  {
   "cell_type": "markdown",
   "metadata": {},
   "source": [
    "####  <span style=\"color:#075a04\"> 1. What voltage is the + terminal of the op amp connected to? Why do we need it to be connected to this voltage value? </span> "
   ]
  },
  {
   "cell_type": "markdown",
   "metadata": {},
   "source": [
    "< _YOUR ANSWER HERE_ >"
   ]
  },
  {
   "cell_type": "markdown",
   "metadata": {},
   "source": [
    "#### <span style=\"color:#075a04\"> 2. What is the circuit?  What does it do to the input signal? Hint: what is the expected behavior of LED1 and LED2 for a square wave input?"
   ]
  },
  {
   "cell_type": "markdown",
   "metadata": {},
   "source": [
    "< _YOUR ANSWER HERE_ >"
   ]
  },
  {
   "cell_type": "markdown",
   "metadata": {},
   "source": [
    "#### <span style=\"color:#075a04\"> 3. What is the gain of the circuit?"
   ]
  },
  {
   "cell_type": "markdown",
   "metadata": {},
   "source": [
    "< _YOUR ANSWER HERE_ >"
   ]
  },
  {
   "cell_type": "markdown",
   "metadata": {},
   "source": [
    "#### <span style=\"color:#075a04\"> 4. How can you change the gain?\n"
   ]
  },
  {
   "cell_type": "markdown",
   "metadata": {},
   "source": [
    "< _YOUR ANSWER HERE_ >"
   ]
  },
  {
   "cell_type": "markdown",
   "metadata": {},
   "source": [
    "#### <span style=\"color:#075a04\"> 5. What happens when you:\n",
    "\n",
    "#### <span style=\"color:#075a04\"> a) Flip the polarity (i.e. swap the inputs of the inverting and noninverting input terminals of the op-amp)?"
   ]
  },
  {
   "cell_type": "markdown",
   "metadata": {},
   "source": [
    "< _YOUR ANSWER HERE_ >"
   ]
  },
  {
   "cell_type": "markdown",
   "metadata": {},
   "source": [
    "#### <span style=\"color:#075a04\"> b) Short the \"+\" and \"-\" _input_ terminals (NOT VSS and VDD)?"
   ]
  },
  {
   "cell_type": "markdown",
   "metadata": {},
   "source": [
    "< _YOUR ANSWER HERE_ >"
   ]
  },
  {
   "cell_type": "markdown",
   "metadata": {},
   "source": [
    "#### <span style=\"color:#075a04\"> c) Increase Rf? Hint: what is the maximum amplitude the circuit can output?"
   ]
  },
  {
   "cell_type": "markdown",
   "metadata": {},
   "source": [
    "< _YOUR ANSWER HERE_ >"
   ]
  },
  {
   "cell_type": "markdown",
   "metadata": {},
   "source": [
    "#### <span style=\"color:#075a04\"> d) What happens if the op-amp's VSS = -1 V?"
   ]
  },
  {
   "cell_type": "markdown",
   "metadata": {},
   "source": [
    "< _YOUR ANSWER HERE_ >"
   ]
  },
  {
   "cell_type": "markdown",
   "metadata": {},
   "source": [
    "#### <span style=\"color:#075a04\"> e) Keeping $\\frac{R_f}{R_{in}}$ constant, do the resistors' values affect circuit output / performance (ex: $\\frac{100k \\Omega}{10k\\Omega}$ equivalent to $\\frac{100\\Omega}{10\\Omega}$)? Is it better to use large or small resistor values, and why?"
   ]
  },
  {
   "cell_type": "markdown",
   "metadata": {},
   "source": [
    "< _YOUR ANSWER HERE_ >"
   ]
  },
  {
   "cell_type": "markdown",
   "metadata": {},
   "source": [
    "<a id='part4'></a>\n",
    "# <span style=\"color:#ba190f\">CHECKOFF </span> \n",
    "-----\n",
    "    \n",
    "\n",
    "\n",
    "### For Checkoff:\n",
    "\n",
    "- First take the [checkoff quiz](https://forms.gle/8LA4uc1H3bs9QJ1y6).\n",
    "- Show your GSI both LEDs when connected to the proper input.\n",
    "- Show your GSI your completed quiz.\n",
    "- Be prepared to answer some questions.\n",
    "\n",
    "**After checkoff, please:**\n",
    "\n",
    "- Keep the voltage regulator circuits on your breadboard!\n",
    "- Dismantle the op-amp circuit.\n",
    "- Store all your electrical components in a neat and organized manner.\n",
    "- Make sure that all components that you received in your lab kit are stored safely for use in future labs.\n",
    "\n",
    "### Save this notebook somewhere you can access it! \n",
    "\n",
    "We recommend making a shared google drive with your lab partner, since github can be annoying with jupyter notebooks. You will **NOT** need this circuit for next week's lab, but it's good to start saving your jupyter notebooks now so that you will always have access to your lab work.\n",
    "\n",
    "Backups are always a good idea."
   ]
  },
  {
   "cell_type": "code",
   "execution_count": null,
   "metadata": {
    "collapsed": true
   },
   "outputs": [],
   "source": []
  }
 ],
 "metadata": {
  "anaconda-cloud": {},
  "kernelspec": {
   "display_name": "Python 3",
   "language": "python",
   "name": "python3"
  },
  "language_info": {
   "codemirror_mode": {
    "name": "ipython",
    "version": 3
   },
   "file_extension": ".py",
   "mimetype": "text/x-python",
   "name": "python",
   "nbconvert_exporter": "python",
   "pygments_lexer": "ipython3",
   "version": "3.7.3"
  }
 },
 "nbformat": 4,
 "nbformat_minor": 2
}

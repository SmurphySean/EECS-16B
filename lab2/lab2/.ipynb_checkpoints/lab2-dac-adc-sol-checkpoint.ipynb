{
 "cells": [
  {
   "cell_type": "markdown",
   "metadata": {},
   "source": [
    "# Analog-Digital Circuit Interfaces\n",
    "\n",
    "### EE 16B: Designing Information Devices and Systems II, Summer 2020\n",
    "\n",
    "Updated by Mia Mirkovic (2020)\n",
    "\n",
    "miamirkovic@berkeley.edu\n",
    "\n",
    "-----"
   ]
  },
  {
   "cell_type": "markdown",
   "metadata": {},
   "source": [
    "## Table of Contents\n",
    "\n",
    "* [Part 0: Lab Note](#part0)\n",
    "* [Part 1: Digital to Analog Converters (DACs)](#part1)\n",
    "* [Part 2: Analog to Digital Converters (ADCs)](#part2)"
   ]
  },
  {
   "cell_type": "markdown",
   "metadata": {},
   "source": [
    "<a id='part0'></a>\n",
    "# <span style=\"color:navy\">Part 0: Lab Note</span>\n",
    "-----\n",
    "\n",
    "### Please read the [lab note](https://drive.google.com/file/d/11XFdF8O0T3PGzGejyiGF8z3hVolKgjos/view?usp=sharing)."
   ]
  },
  {
   "cell_type": "markdown",
   "metadata": {},
   "source": [
    "<a id='part1'></a>\n",
    "# <span style=\"color:navy\">Part 1: Digital to Analog Converters (DACs)</span>\n",
    "-----"
   ]
  },
  {
   "cell_type": "markdown",
   "metadata": {},
   "source": [
    "<img style=\"width: 350px\" src=\"imgs/lab2_r_2r.png\">"
   ]
  },
  {
   "cell_type": "markdown",
   "metadata": {},
   "source": [
    "## Questions\n",
    "\n",
    "For the questions below, we assume we have an $n = 3$ bit DAC. Don't forget to show your GSI your work! (Hint: Superposition)\n",
    "\n",
    "**<span style=\"color:#ba190f\">Please do not spend too long on these questions. If you get stuck, ask for help.</span>**\n",
    "\n",
    "**<span style=\"color:#075a04\">1. Assuming [$V_0, V_1, V_2$] = [0,0,0] (all in volts), what is $V_{out}$?</span>**\n",
    "\n",
    "$0*3.3\\mathrm{V}=0V$"
   ]
  },
  {
   "cell_type": "markdown",
   "metadata": {},
   "source": [
    "**<span style=\"color:#075a04\">2. Assuming [$V_0, V_1, V_2$] = [0,1,0], what is $V_{out}$?</span>**\n",
    "\n",
    "$\\frac{1}{4}*3.3\\mathrm{V}=0.825V$"
   ]
  },
  {
   "cell_type": "markdown",
   "metadata": {},
   "source": [
    "**<span style=\"color:#075a04\">3. Assuming [$V_0, V_1, V_2$] = [1,1,1], what is $V_{out}$?</span>**\n",
    "\n",
    "$\\frac{7}{8}*3.3\\mathrm{V}=2.8875V$"
   ]
  },
  {
   "cell_type": "markdown",
   "metadata": {},
   "source": [
    "**<span style=\"color:#075a04\">4. Assuming [$V_0, V_1, V_2$] = [0,0,1], what is $V_{out}$?</span>**\n",
    "\n",
    "$\\frac{1}{2}*3.3\\mathrm{V}=1.65V$"
   ]
  },
  {
   "cell_type": "markdown",
   "metadata": {},
   "source": [
    "## Materials\n",
    "- MSP430 Launchpad + USB cable\n",
    "- Jumper wires\n",
    "- 1 k$\\Omega$ resistors\n",
    "- 2 k$\\Omega$ resistors\n",
    "- Red LED (you can try other colors, but red usually has the lowest on-voltage)\n",
    "- Breadboard\n",
    "- Multimeter"
   ]
  },
  {
   "cell_type": "markdown",
   "metadata": {},
   "source": [
    "## Tasks"
   ]
  },
  {
   "cell_type": "markdown",
   "metadata": {},
   "source": [
    "### 1.1. Build the 3-bit DAC\n",
    "\n",
    "Use the diagram below to build a 3-bit DAC using the $1K\\Omega$ and $2 K\\Omega$ resistors. Use the jumper wires to connect the Launchpad to the circuit. For example `P4.1` below tells you to connect that node on the breadboard to pin `4.1` on the Launchpad. In this circuit, the Launchpad will act as a signal generator.\n",
    "\n",
    "<img style=\"width: 400px\" src=\"imgs/lab2_r_2r_pins.png\">"
   ]
  },
  {
   "cell_type": "markdown",
   "metadata": {},
   "source": [
    "### 1.2. Running the 3-bit DAC\n",
    "\n",
    "**Make sure to connect the ground of your Launchpad with the ground of your circuit!**\n",
    "\n",
    "- Open the file `dac.ino` in Energia and skim the code.\n",
    "    - **What do you expect the output of the DAC to be?** This understanding is **vital** to the debugging process: if you don't know what you're looking for, how can you know if your result is correct or not?\n",
    "- Adjust the `DELAY` variable in the code to your desired value. \n",
    "- Upload the code to your Launchpad. The code outputs an increasing and decreasing binary number in pins `2.7`, `4.2`, `4.1` where pin `4.1` is the least significant bit (LSB).\n",
    "- Connect pin `6.0` to $V_{OUT}$.\n",
    "- **Press the `RST` button on your Launchpad.**\n",
    "- Observe the behavior of the LED. You might not see the LED turn on for the lower voltages. \n",
    "- Now, **remove the LED from your circuit**. Open the serial plotter. Does the output look like what you expect?\n",
    "\n",
    "### 1.3  Recording your data\n",
    "\n",
    "- Open the file `dac_data.ino` in Energia. Upload it to your Launchpad and hit `RST` after the code finishes uploading.\n",
    "- Open the serial monitor (`Tools` > `Serial Monitor`) to read the voltage values at the output.\n",
    "    - If you don't see anything, change to the other (reasonable) port (`Tools` > `Ports` > your port)\n",
    "- Record the voltages for one full period (increasing and decreasing) in the cell below.\n"
   ]
  },
  {
   "cell_type": "code",
   "execution_count": 2,
   "metadata": {
    "collapsed": true
   },
   "outputs": [],
   "source": [
    "import numpy as np\n",
    "import matplotlib.pyplot as plt"
   ]
  },
  {
   "cell_type": "code",
   "execution_count": 3,
   "metadata": {},
   "outputs": [
    {
     "data": {
      "image/png": "[encoded data removed]",
      "text/plain": [
       "<matplotlib.figure.Figure at 0x10cc6a320>"
      ]
     },
     "metadata": {},
     "output_type": "display_data"
    }
   ],
   "source": [
    "delay = 3 # your delay here (in seconds)\n",
    "\n",
    "voltages = [0.00,0.4,0.8,1.23,1.6,2.03,2.45,2.86,2.45,2.03,1.6,1.23,0.8,0.4,0] #fill in voltages here\n",
    "\n",
    "#Plot Outputs\n",
    "plt.figure(figsize=(10,5))\n",
    "plt.grid()\n",
    "vplot = np.concatenate([np.repeat(v,delay) for v in voltages])\n",
    "plt.plot(vplot)\n",
    "plt.xlabel(\"Time (s)\")\n",
    "plt.ylabel(\"Voltage [V]\")\n",
    "plt.title(\"3-bit DAC Output\")\n",
    "plt.show()\n"
   ]
  },
  {
   "cell_type": "markdown",
   "metadata": {},
   "source": [
    "### 1.4. Build the 4-bit DAC\n",
    "- **Modify both your circuit and the Launchpad code** to extend the 3-bit DAC to 4 bits.\n",
    "    - **You should use pin `3.2` for the new most significant bit (MSB)**.\n",
    "    - All you have to do to the code is change `BITS` to 4.\n",
    "- Repeat the steps in 1.2 and 1.3 for the 4-bit DAC."
   ]
  },
  {
   "cell_type": "code",
   "execution_count": 4,
   "metadata": {},
   "outputs": [
    {
     "data": {
      "image/png": "[encoded data removed]",
      "text/plain": [
       "<matplotlib.figure.Figure at 0x10cbc1cc0>"
      ]
     },
     "metadata": {},
     "output_type": "display_data"
    }
   ],
   "source": [
    "delay = 3 # your delay here (in seconds)\n",
    "\n",
    "voltages = [0.0000000000,0.1921620845,0.3824810028,0.5757287979,0.7564437866,0.9481156349,1.1401097774,1.3342176675,1.5205441474,1.7161492347,1.9026840209,2.0916082859,2.2763416767,2.4749279022,2.6555542945,2.8570129394,2.6631972789,2.4799110889,2.2853059768,2.1023049354,1.9089115142,1.7158504486,1.5272789001,1.3329749107,1.1429535150,0.9483432769,0.7592787742,0.5775359153,0.3813333320,0.1923129272,0.0000000000] #fill in voltages here\n",
    "\n",
    "\n",
    "#Plot Outputs\n",
    "plt.figure(figsize=(10,5))\n",
    "plt.grid()\n",
    "vplot = np.concatenate([np.repeat(v,delay) for v in voltages])\n",
    "plt.plot(vplot)\n",
    "plt.xlabel(\"Time (s)\")\n",
    "plt.ylabel(\"Voltage [V]\")\n",
    "plt.title(\"4-bit DAC Output\")\n",
    "plt.show()"
   ]
  },
  {
   "cell_type": "markdown",
   "metadata": {},
   "source": [
    "<a id='part2'></a>\n",
    "# <span style=\"color:navy\">Part 2: Analog to Digital Converters (ADCs)</span>\n",
    "-----\n",
    "\n",
    "## Materials\n",
    "- MSP430 Launchpad + USB cable\n",
    "- 1 k$\\Omega$ resistors\n",
    "- 2 k$\\Omega$ resistors\n",
    "- LMC6482 Op-amp\n",
    "- Breadboard\n",
    "- Multimeter"
   ]
  },
  {
   "cell_type": "markdown",
   "metadata": {},
   "source": [
    "## Tasks"
   ]
  },
  {
   "cell_type": "markdown",
   "metadata": {},
   "source": [
    "### 2.0. Read Part 2 of the [lab note](https://drive.google.com/file/d/11XFdF8O0T3PGzGejyiGF8z3hVolKgjos/view?usp=sharing).\n",
    "\n",
    "\n",
    "### 2.1. Build the ADC\n",
    "\n",
    "While we've already written the code for the ADC, you'll still need to make some changes to your circuit. Specifically, **you will need to build the analog input** (use a potentiometer to form a variable voltage divider between 3.3V and ground) and the part that compares the output of the DAC to the analog input and feeds the result of the comparison back to pin `6.5` on your launchpad (hint: it's the comparator). You've already built the 4-bit DAC, so just build the rest of the ADC around that. \n",
    "\n",
    "1. Build the analog input circuit shown in part 2 of the note in the section titled \"The Potentiometer\". \n",
    "    - When you turn the knob on the potentiometer, the voltage at the node labeled \"analog input\" should change. Probe that node with a multimeter and try it.\n",
    "    \n",
    "2. Complete the ADC as shown in the last image in Part 2 of the lab note.\n",
    "\n"
   ]
  },
  {
   "cell_type": "markdown",
   "metadata": {},
   "source": [
    "### 2.2. Run the ADC\n",
    "\n",
    "- Open the file `sar_adc.ino` and skim the code. It reads from pin `6.5` and outputs the approximated result in pins `3.2`, `2.7`, `4.2`, `4.1` with pin `4.1` as the LSB.\n",
    "- Use the potentiometer to control the input voltage (which ranges from 0V to 3.3V).\n",
    "- Probe the input voltage with the multimeter and record it below.\n",
    "- Check the binary output! To check the output, open the Serial Monitor in Energia (Control + Shift + M or `Tools > Serial Monitor`). **Make sure the serial monitor is at 9600 baud.**\n",
    "    - Try turning the potentiometer and see what changes!\n",
    "- Now, let's plot what's actually happening as we step through the SAR algorithm. Upload `sar_adc_plot.ino` to your Launchpad.\n",
    "- Connect the DAC output to pin `6.0` on the Launchpad.\n",
    "- Hit reset and open the serial plotter. What do you see? Try turning the potentiometer to change the analog input voltage. What happens?\n",
    "\n",
    "  - **<span style=\"color:#ba190f\">The graph should show something like this. Should your signal look exactly like this? Think about why the signal steps up and down when it does, and why it converges to this specific voltage (~1.4V).</span>**\n",
    "\n",
    "<center>\n",
    "<img style=\"width:600px\" src=\"http://inst.eecs.berkeley.edu/~ee16b/fa15/lab_pics/adc-4.png\"/>\n",
    "</center>\n",
    "\n",
    "### 2.3  Recording your data\n",
    "\n",
    "- Open the file `sar_adc_data.ino` in Energia. Upload it to your Launchpad and hit `RST` after the code finishes uploading.\n",
    "- Open the serial monitor (`Tools` > `Serial Monitor`) to read the voltage values at the output.\n",
    "    - If you don't see anything, change to the other (reasonable) port (`Tools` > `Ports` > your port)\n",
    "- Record the voltages for one full period in the cell below.\n",
    "- Change the analog input voltage and plot the resulting data in the second plot below.\n"
   ]
  },
  {
   "cell_type": "code",
   "execution_count": 5,
   "metadata": {},
   "outputs": [
    {
     "data": {
      "image/png": "[encoded data removed]",
      "text/plain": [
       "<matplotlib.figure.Figure at 0x10efe2128>"
      ]
     },
     "metadata": {},
     "output_type": "display_data"
    }
   ],
   "source": [
    "delay_ms = 5 # your delay (in milliseconds)\n",
    "\n",
    "analog_input = 0.9 # your input voltage here\n",
    "voltages = [0.0000000000,1.7533942222,0.0000000000,0.8719581604,0.8754046440,1.3165534734,0.8719581604,1.0959790992,0.8745430946]\n",
    "\n",
    "\n",
    "#Plot Outputs\n",
    "plt.figure(figsize=(10,5))\n",
    "plt.grid()\n",
    "plt.ylim((0,3.3))\n",
    "vplot = np.concatenate([np.repeat(v,delay_ms) for v in voltages])\n",
    "plt.plot(vplot)\n",
    "plt.xlabel(\"Time (ms)\")\n",
    "plt.ylabel(\"Voltage [V]\")\n",
    "plt.title(\"DAC Output of SAR ADC, input = \"+str(analog_input)+\"V\")\n",
    "plt.show()"
   ]
  },
  {
   "cell_type": "code",
   "execution_count": 9,
   "metadata": {},
   "outputs": [
    {
     "data": {
      "image/png": "[encoded data removed]",
      "text/plain": [
       "<matplotlib.figure.Figure at 0x10f588828>"
      ]
     },
     "metadata": {},
     "output_type": "display_data"
    }
   ],
   "source": [
    "analog_input = 0 # your input voltage here\n",
    "voltages = [0.0000000000,1.7499477863,0.0000000000,0.8719581604,0.0000000000,0.4402872085,0.0017232375,0.2205744028,0.0017232375,0]\n",
    "\n",
    "\n",
    "#Plot Outputs\n",
    "plt.figure(figsize=(10,5))\n",
    "plt.grid()\n",
    "plt.ylim((0,3.3))\n",
    "vplot = np.concatenate([np.repeat(v,delay_ms) for v in voltages])\n",
    "plt.plot(vplot)\n",
    "plt.xlabel(\"Time (ms)\")\n",
    "plt.ylabel(\"Voltage [V]\")\n",
    "plt.title(\"DAC Output of SAR ADC, input = \"+str(analog_input)+\"V\")\n",
    "plt.show()"
   ]
  },
  {
   "cell_type": "markdown",
   "metadata": {},
   "source": [
    "## Questions\n",
    "\n",
    "**<span style=\"color:#075a04\">2.1. If we want to build a 4-bit ADC with a sampling frequency of 1kHz (read the input voltage 1000 times per second), what is the minimum clock frequency the ADC has to run at assuming it takes one clock cycle to set each bit in the ADC's register?</span>**\n",
    "\n"
   ]
  },
  {
   "cell_type": "markdown",
   "metadata": {},
   "source": [
    "1 loop per bit per sample -> $4\\text{kHz}$"
   ]
  },
  {
   "cell_type": "markdown",
   "metadata": {},
   "source": [
    "**Take a look at the <a href=\"https://www.ti.com/lit/ds/symlink/tlc7524.pdf?HQS=TI-null-null-mousermode-df-pf-null-wwe&ts=1592345736692&ref_url=https%253A%252F%252Fwww.mouser.com%252F\">datasheet</a> for the TLC7524 8-bit DAC.**\n",
    "\n",
    "**<span style=\"color:#075a04\">2.2. Look at the table of recommended operating conditions. Could we use this DAC with the Launchpad pins as the inputs? Why or why not?</span>**"
   ]
  },
  {
   "cell_type": "markdown",
   "metadata": {},
   "source": [
    "Yes; the minimum input value for logical high is 2.4V, so the 3.3V logic level of the Launchpad would work with this DAC."
   ]
  },
  {
   "cell_type": "markdown",
   "metadata": {},
   "source": [
    "**<span style=\"color:#075a04\">2.2. What's different (aside from the number of bits) about the circuitry that converts the digital inputs (DB0-7 in the diagram on page 2) from the DAC you built? </span>**"
   ]
  },
  {
   "cell_type": "markdown",
   "metadata": {},
   "source": [
    "The R-2R ladder it uses is inverted."
   ]
  },
  {
   "cell_type": "markdown",
   "metadata": {},
   "source": [
    "**Look at the propagation delay and settling times given on page 1. Also, please read [this webpage](https://www.edn.com/precisely-measure-settling-time-to-1-ppm/) to better understand the meaning of these numbers.Let's say we want to build a SAR ADC using this DAC and some microprocessor. Assume the time between the microprocessor setting a bit value and the voltage actually appearing at one of the inputs (DB0-7) is at worst 100ns. Similarly, assume that the time it takes for the DAC output signal to travel through the comparator and be read into the microprocessor is at worst 150ns. **\n",
    "\n",
    "**<span style=\"color:#075a04\">2.3. What is the worst-case time required to set a bit in the ADC's register? </span>**"
   ]
  },
  {
   "cell_type": "markdown",
   "metadata": {},
   "source": [
    "100ns+100ns+150ns = 350ns"
   ]
  },
  {
   "cell_type": "markdown",
   "metadata": {},
   "source": [
    "**<span style=\"color:#075a04\">2.4. How long would it take in the worst case to see the correct ADC output? What is the maximum frequency at which we could sample the output voltage and still be absolutely certain that the value is correct? </span>**"
   ]
  },
  {
   "cell_type": "markdown",
   "metadata": {},
   "source": [
    "8$*$350ns = 2.8$\\mu$s; 1/(2.8$\\mu$s) = about 360kHz"
   ]
  },
  {
   "cell_type": "markdown",
   "metadata": {},
   "source": [
    "# <span style=\"color:#ba190f\">CHECKOFF</span>\n",
    "-----\n",
    "- Complete <a href=\"https://forms.gle/Q5EM2x7suMKdAeVy7\">this quiz</a>.\n",
    "- Have your ADC running and be ready to explain how it works.\n",
    "- Have all of the plots and <span style=\"color:#075a04\"> green questions in the notebook completed</span>.\n",
    "\n",
    "Don't forget to save this notebook somewhere all your group members can access it!"
   ]
  },
  {
   "cell_type": "code",
   "execution_count": null,
   "metadata": {
    "collapsed": true
   },
   "outputs": [],
   "source": []
  }
 ],
 "metadata": {
  "anaconda-cloud": {},
  "kernelspec": {
   "display_name": "Python 3",
   "language": "python",
   "name": "python3"
  },
  "language_info": {
   "codemirror_mode": {
    "name": "ipython",
    "version": 3
   },
   "file_extension": ".py",
   "mimetype": "text/x-python",
   "name": "python",
   "nbconvert_exporter": "python",
   "pygments_lexer": "ipython3",
   "version": "3.6.1"
  }
 },
 "nbformat": 4,
 "nbformat_minor": 1
}
